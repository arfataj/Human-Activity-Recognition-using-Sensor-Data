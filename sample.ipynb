{
 "cells": [
  {
   "cell_type": "markdown",
   "metadata": {},
   "source": [
    "## Setup"
   ]
  },
  {
   "cell_type": "code",
   "execution_count": 17,
   "metadata": {},
   "outputs": [],
   "source": [
    "import pandas as pd\n",
    "import numpy as np\n",
    "import matplotlib.pyplot as plt\n",
    "import seaborn as sns\n",
    "import tensorflow as tf\n",
    "from scipy import stats\n",
    "from sklearn import metrics\n",
    "\n",
    "%matplotlib inline\n",
    "\n",
    "import warnings\n",
    "warnings.filterwarnings('ignore')"
   ]
  },
  {
   "cell_type": "code",
   "execution_count": 3,
   "metadata": {},
   "outputs": [
    {
     "name": "stdout",
     "output_type": "stream",
     "text": [
      "Collecting package metadata (current_repodata.json): ...working... failed\n",
      "\n",
      "Note: you may need to restart the kernel to use updated packages.\n"
     ]
    },
    {
     "name": "stderr",
     "output_type": "stream",
     "text": [
      "\n",
      "CondaSSLError: OpenSSL appears to be unavailable on this machine. OpenSSL is required to\n",
      "download and install packages.\n",
      "\n",
      "Exception: HTTPSConnectionPool(host='repo.anaconda.com', port=443): Max retries exceeded with url: /pkgs/main/win-64/current_repodata.json (Caused by SSLError(\"Can't connect to HTTPS URL because the SSL module is not available.\"))\n",
      "\n",
      "\n"
     ]
    }
   ],
   "source": [
    "conda create -n py37 python=3.7 pip tensorflow"
   ]
  },
  {
   "cell_type": "code",
   "execution_count": 5,
   "metadata": {},
   "outputs": [
    {
     "data": {
      "text/plain": [
       "'2.3.0'"
      ]
     },
     "execution_count": 5,
     "metadata": {},
     "output_type": "execute_result"
    }
   ],
   "source": [
    "import tensorflow as tf\n",
    "tf.__version__"
   ]
  },
  {
   "cell_type": "code",
   "execution_count": 6,
   "metadata": {},
   "outputs": [
    {
     "name": "stdout",
     "output_type": "stream",
     "text": [
      "Please install GPU version of TF\n"
     ]
    }
   ],
   "source": [
    "# Check if GPU is available\n",
    "if tf.test.gpu_device_name():\n",
    "    print('Default GPU Device: {}'.format(tf.test.gpu_device_name()))\n",
    "else:\n",
    "    print(\"Please install GPU version of TF\")"
   ]
  },
  {
   "cell_type": "markdown",
   "metadata": {},
   "source": [
    "## Loading and preparing train and test data"
   ]
  },
  {
   "cell_type": "markdown",
   "metadata": {},
   "source": [
    "We use \"Sensors Activity Dataset\" by Shoaib et al. which is available for download from [here](https://www.utwente.nl/en/eemcs/ps/research/dataset/).\n",
    "There are 7 activities in this dataset: Biking, Downstairs, Jogging, Sitting, Standing, Upstairs, Walking. \n",
    "There were ten participants involved in data collection experiment who performed  each of these activities for 3-4 minutes.\n",
    "All ten participants were male, between the ages of 25 and 30. \n",
    "Each of these participants was equipped with five smartphones on five body positions: \n",
    "\n",
    "1. One in their right jean’s pocket. \n",
    "2. One in their left jean’s pocket.\n",
    "3. One on belt position towards the right leg using a belt clipper.\n",
    "4. One on the right upper arm. \n",
    "5. One on the right wrist.\n",
    "\n",
    "The data was collected for an accelerometer, a gyroscope, a magnetometer, and a linear acceleration sensor. \n",
    "Each csv file contains data for each participant's seven physical activities for all five positions. \n",
    "\n",
    "Notation in these files: \n",
    "\n",
    "Accelerometer ( Ax = x-axis, Ay = y-axis, Az= Z-aixs)   \n",
    "Linear Acceleration Sensor ( Lx = x-axis, Ly = y axis, Lz= Z-aixs)   \n",
    "Gyroscope ( Gx = x-axis, Gy = y-axis, Gz= Z-aixs)   \n",
    "Magnetometer ( Mx = x-axis, My = y-axis, Mz= Z-aixs) "
   ]
  },
  {
   "cell_type": "code",
   "execution_count": 7,
   "metadata": {},
   "outputs": [
    {
     "name": "stderr",
     "output_type": "stream",
     "text": [
      "'wget' is not recognized as an internal or external command,\n",
      "operable program or batch file.\n"
     ]
    },
    {
     "name": "stdout",
     "output_type": "stream",
     "text": [
      "Requirement already satisfied: unrar in c:\\users\\faata\\anaconda3\\envs\\tensorflow_cpu\\lib\\site-packages (0.4)\n"
     ]
    },
    {
     "name": "stderr",
     "output_type": "stream",
     "text": [
      "'unrar' is not recognized as an internal or external command,\n",
      "operable program or batch file.\n"
     ]
    }
   ],
   "source": [
    "# Download dataset\n",
    "! wget https://www.utwente.nl/en/eemcs/ps/dataset-folder/sensors-activity-recognition-dataset-shoaib.rar -P ../data/\n",
    "\n",
    "# Extract dataset using unrar\n",
    "!pip install unrar\n",
    "!unrar e ../data/sensors-activity-recognition-dataset-shoaib.rar ../data/"
   ]
  },
  {
   "cell_type": "code",
   "execution_count": 8,
   "metadata": {},
   "outputs": [
    {
     "name": "stdout",
     "output_type": "stream",
     "text": [
      "Downloading dataset\n",
      "Download completed\n"
     ]
    }
   ],
   "source": [
    "import urllib.request\n",
    "\n",
    "print('Downloading dataset')\n",
    "\n",
    "url = 'https://www.utwente.nl/en/eemcs/ps/dataset-folder/sensors-activity-recognition-dataset-shoaib.rar'\n",
    "urllib.request.urlretrieve(url, 'HAR_dataset.rar')\n",
    "\n",
    "print('Download completed')"
   ]
  },
  {
   "cell_type": "code",
   "execution_count": 10,
   "metadata": {},
   "outputs": [
    {
     "name": "stdout",
     "output_type": "stream",
     "text": [
      "Requirement already satisfied: pyunpack in c:\\users\\faata\\anaconda3\\envs\\tensorflow_cpu\\lib\\site-packages (0.3)\n",
      "Requirement already satisfied: entrypoint2 in c:\\users\\faata\\anaconda3\\envs\\tensorflow_cpu\\lib\\site-packages (from pyunpack) (1.1)\n",
      "Requirement already satisfied: easyprocess in c:\\users\\faata\\anaconda3\\envs\\tensorflow_cpu\\lib\\site-packages (from pyunpack) (1.1)\n",
      "Requirement already satisfied: patool in c:\\users\\faata\\anaconda3\\envs\\tensorflow_cpu\\lib\\site-packages (1.12)\n"
     ]
    }
   ],
   "source": [
    "!pip3 install pyunpack\n",
    "!pip3 install patool\n",
    "from pyunpack import Archive\n",
    "Archive('HAR_dataset.rar').extractall('.')"
   ]
  },
  {
   "cell_type": "markdown",
   "metadata": {},
   "source": [
    "## Loading and preparing train and test data"
   ]
  },
  {
   "cell_type": "markdown",
   "metadata": {},
   "source": [
    "We load all 10 participants data into a single dataframe:"
   ]
  },
  {
   "cell_type": "code",
   "execution_count": 12,
   "metadata": {},
   "outputs": [
    {
     "data": {
      "text/html": [
       "<div>\n",
       "<style scoped>\n",
       "    .dataframe tbody tr th:only-of-type {\n",
       "        vertical-align: middle;\n",
       "    }\n",
       "\n",
       "    .dataframe tbody tr th {\n",
       "        vertical-align: top;\n",
       "    }\n",
       "\n",
       "    .dataframe thead th {\n",
       "        text-align: right;\n",
       "    }\n",
       "</style>\n",
       "<table border=\"1\" class=\"dataframe\">\n",
       "  <thead>\n",
       "    <tr style=\"text-align: right;\">\n",
       "      <th></th>\n",
       "      <th>time_stamp</th>\n",
       "      <th>Ax</th>\n",
       "      <th>Ay</th>\n",
       "      <th>Az</th>\n",
       "      <th>Lx</th>\n",
       "      <th>Ly</th>\n",
       "      <th>Lz</th>\n",
       "      <th>Gx</th>\n",
       "      <th>Gy</th>\n",
       "      <th>Gz</th>\n",
       "      <th>...</th>\n",
       "      <th>Lx.4</th>\n",
       "      <th>Ly.4</th>\n",
       "      <th>Lz.4</th>\n",
       "      <th>Gx.4</th>\n",
       "      <th>Gy.4</th>\n",
       "      <th>Gz.4</th>\n",
       "      <th>Mx.4</th>\n",
       "      <th>My.4</th>\n",
       "      <th>Mz.4</th>\n",
       "      <th>Unnamed: 69</th>\n",
       "    </tr>\n",
       "  </thead>\n",
       "  <tbody>\n",
       "    <tr>\n",
       "      <th>0</th>\n",
       "      <td>1.390000e+12</td>\n",
       "      <td>-1.81150</td>\n",
       "      <td>-14.873</td>\n",
       "      <td>-1.34840</td>\n",
       "      <td>-1.26910</td>\n",
       "      <td>-5.1057</td>\n",
       "      <td>-0.66445</td>\n",
       "      <td>-0.53206</td>\n",
       "      <td>-3.18690</td>\n",
       "      <td>0.23976</td>\n",
       "      <td>...</td>\n",
       "      <td>-5.3574</td>\n",
       "      <td>-0.95749</td>\n",
       "      <td>0.318860</td>\n",
       "      <td>0.52565</td>\n",
       "      <td>-0.18815</td>\n",
       "      <td>0.285880</td>\n",
       "      <td>-22.20</td>\n",
       "      <td>6.48</td>\n",
       "      <td>4.56</td>\n",
       "      <td>walking</td>\n",
       "    </tr>\n",
       "    <tr>\n",
       "      <th>1</th>\n",
       "      <td>1.390000e+12</td>\n",
       "      <td>0.24517</td>\n",
       "      <td>-14.070</td>\n",
       "      <td>-0.84446</td>\n",
       "      <td>0.70147</td>\n",
       "      <td>-4.2969</td>\n",
       "      <td>-0.17199</td>\n",
       "      <td>-0.25229</td>\n",
       "      <td>-1.79660</td>\n",
       "      <td>0.40745</td>\n",
       "      <td>...</td>\n",
       "      <td>-4.5352</td>\n",
       "      <td>-0.67629</td>\n",
       "      <td>0.081656</td>\n",
       "      <td>0.43616</td>\n",
       "      <td>0.16371</td>\n",
       "      <td>0.198230</td>\n",
       "      <td>-21.90</td>\n",
       "      <td>7.14</td>\n",
       "      <td>5.34</td>\n",
       "      <td>walking</td>\n",
       "    </tr>\n",
       "    <tr>\n",
       "      <th>2</th>\n",
       "      <td>1.390000e+12</td>\n",
       "      <td>-0.57205</td>\n",
       "      <td>-14.628</td>\n",
       "      <td>-1.75700</td>\n",
       "      <td>-0.21760</td>\n",
       "      <td>-4.8531</td>\n",
       "      <td>-1.05650</td>\n",
       "      <td>-1.04920</td>\n",
       "      <td>0.29138</td>\n",
       "      <td>0.29230</td>\n",
       "      <td>...</td>\n",
       "      <td>-4.0408</td>\n",
       "      <td>-0.55974</td>\n",
       "      <td>-0.523690</td>\n",
       "      <td>0.32284</td>\n",
       "      <td>0.43127</td>\n",
       "      <td>0.211970</td>\n",
       "      <td>-21.60</td>\n",
       "      <td>7.50</td>\n",
       "      <td>5.64</td>\n",
       "      <td>walking</td>\n",
       "    </tr>\n",
       "    <tr>\n",
       "      <th>3</th>\n",
       "      <td>1.390000e+12</td>\n",
       "      <td>-0.69464</td>\n",
       "      <td>-12.939</td>\n",
       "      <td>-3.09180</td>\n",
       "      <td>-0.32273</td>\n",
       "      <td>-3.1786</td>\n",
       "      <td>-2.21970</td>\n",
       "      <td>-2.37200</td>\n",
       "      <td>1.00820</td>\n",
       "      <td>0.34972</td>\n",
       "      <td>...</td>\n",
       "      <td>-3.5908</td>\n",
       "      <td>0.15795</td>\n",
       "      <td>-1.880200</td>\n",
       "      <td>0.20403</td>\n",
       "      <td>0.72846</td>\n",
       "      <td>0.164930</td>\n",
       "      <td>-21.12</td>\n",
       "      <td>8.40</td>\n",
       "      <td>6.12</td>\n",
       "      <td>walking</td>\n",
       "    </tr>\n",
       "    <tr>\n",
       "      <th>4</th>\n",
       "      <td>1.390000e+12</td>\n",
       "      <td>0.87170</td>\n",
       "      <td>-12.000</td>\n",
       "      <td>-1.56630</td>\n",
       "      <td>1.13740</td>\n",
       "      <td>-2.2390</td>\n",
       "      <td>-0.65476</td>\n",
       "      <td>-2.79010</td>\n",
       "      <td>0.65485</td>\n",
       "      <td>0.22724</td>\n",
       "      <td>...</td>\n",
       "      <td>-1.9450</td>\n",
       "      <td>0.85796</td>\n",
       "      <td>-2.995300</td>\n",
       "      <td>0.09896</td>\n",
       "      <td>0.94379</td>\n",
       "      <td>0.064752</td>\n",
       "      <td>-20.94</td>\n",
       "      <td>8.70</td>\n",
       "      <td>6.30</td>\n",
       "      <td>walking</td>\n",
       "    </tr>\n",
       "  </tbody>\n",
       "</table>\n",
       "<p>5 rows × 70 columns</p>\n",
       "</div>"
      ],
      "text/plain": [
       "     time_stamp       Ax      Ay       Az       Lx      Ly       Lz       Gx  \\\n",
       "0  1.390000e+12 -1.81150 -14.873 -1.34840 -1.26910 -5.1057 -0.66445 -0.53206   \n",
       "1  1.390000e+12  0.24517 -14.070 -0.84446  0.70147 -4.2969 -0.17199 -0.25229   \n",
       "2  1.390000e+12 -0.57205 -14.628 -1.75700 -0.21760 -4.8531 -1.05650 -1.04920   \n",
       "3  1.390000e+12 -0.69464 -12.939 -3.09180 -0.32273 -3.1786 -2.21970 -2.37200   \n",
       "4  1.390000e+12  0.87170 -12.000 -1.56630  1.13740 -2.2390 -0.65476 -2.79010   \n",
       "\n",
       "        Gy       Gz  ...    Lx.4     Ly.4      Lz.4     Gx.4     Gy.4  \\\n",
       "0 -3.18690  0.23976  ... -5.3574 -0.95749  0.318860  0.52565 -0.18815   \n",
       "1 -1.79660  0.40745  ... -4.5352 -0.67629  0.081656  0.43616  0.16371   \n",
       "2  0.29138  0.29230  ... -4.0408 -0.55974 -0.523690  0.32284  0.43127   \n",
       "3  1.00820  0.34972  ... -3.5908  0.15795 -1.880200  0.20403  0.72846   \n",
       "4  0.65485  0.22724  ... -1.9450  0.85796 -2.995300  0.09896  0.94379   \n",
       "\n",
       "       Gz.4   Mx.4  My.4  Mz.4  Unnamed: 69  \n",
       "0  0.285880 -22.20  6.48  4.56      walking  \n",
       "1  0.198230 -21.90  7.14  5.34      walking  \n",
       "2  0.211970 -21.60  7.50  5.64      walking  \n",
       "3  0.164930 -21.12  8.40  6.12      walking  \n",
       "4  0.064752 -20.94  8.70  6.30      walking  \n",
       "\n",
       "[5 rows x 70 columns]"
      ]
     },
     "execution_count": 12,
     "metadata": {},
     "output_type": "execute_result"
    }
   ],
   "source": [
    "df = pd.DataFrame()\n",
    "for i in range(10):\n",
    "    df_tmp = pd.read_csv('../data/Participant_' + str(i+1) + '.csv', header=1)\n",
    "    df = pd.concat([df, df_tmp])\n",
    "\n",
    "# View top 5 rows of dataframe\n",
    "df.head()"
   ]
  },
  {
   "cell_type": "markdown",
   "metadata": {},
   "source": [
    "Now we split data into train and test sets (80% train, 20% test):"
   ]
  },
  {
   "cell_type": "code",
   "execution_count": 13,
   "metadata": {},
   "outputs": [
    {
     "name": "stdout",
     "output_type": "stream",
     "text": [
      "Number of train spamples:  504000\n",
      "Number of test spamples:  126000\n"
     ]
    }
   ],
   "source": [
    "split_point = int(len(df) * 0.8)\n",
    "train_data = df.iloc[:split_point, :]\n",
    "test_data = df.iloc[split_point:, :]\n",
    "\n",
    "print(\"Number of train spamples: \", len(train_data))\n",
    "print(\"Number of test spamples: \", len(test_data))"
   ]
  },
  {
   "cell_type": "markdown",
   "metadata": {},
   "source": [
    "As we only use right pocket's and left pocket's data, we should concatenate those into a single data frame:"
   ]
  },
  {
   "cell_type": "code",
   "execution_count": 14,
   "metadata": {},
   "outputs": [],
   "source": [
    "def concat(data):\n",
    "    \n",
    "    # Select left pocket data\n",
    "    left_pocket = data.iloc[:,1:10]\n",
    "    \n",
    "    #Square root of sum of squares of accelerometer, linear acceleration and gyroscope data\n",
    "    left_pocket[\"MA\"] = np.sqrt(np.square(left_pocket['Ax']) + np.square(left_pocket['Ay']) + np.square(left_pocket['Az']))\n",
    "    left_pocket[\"ML\"] = np.sqrt(np.square(left_pocket['Lx']) + np.square(left_pocket['Ly']) + np.square(left_pocket['Lz']))\n",
    "    left_pocket[\"MG\"] = np.sqrt(np.square(left_pocket['Gx']) + np.square(left_pocket['Gy']) + np.square(left_pocket['Gz']))\n",
    "    \n",
    "\n",
    "    # Select right pocket data\n",
    "    right_pocket = data.iloc[:,15:24]\n",
    "    right_pocket.columns=['Ax', 'Ay', 'Az', 'Lx', 'Ly', 'Lz', 'Gx', 'Gy', 'Gz']\n",
    "    \n",
    "    #Square root of sum of squares of accelerometer, linear acceleration and gyroscope data\n",
    "    right_pocket[\"MA\"] = np.sqrt(np.square(right_pocket['Ax']) + np.square(right_pocket['Ay']) + np.square(right_pocket['Az']))\n",
    "    right_pocket[\"ML\"] = np.sqrt(np.square(right_pocket['Lx']) + np.square(right_pocket['Ly']) + np.square(right_pocket['Lz']))\n",
    "    right_pocket[\"MG\"] = np.sqrt(np.square(right_pocket['Gx']) + np.square(right_pocket['Gy']) + np.square(right_pocket['Gz']))\n",
    "\n",
    "    \n",
    "    # Extract labels \n",
    "    labels = data.iloc[:, 69] \n",
    "    labels = labels.to_frame()\n",
    "    labels.columns=['Activity_Label']\n",
    "    labels = pd.concat([labels]*2, ignore_index=True)\n",
    "    #replace typo 'upsatirs' with upstairs! \n",
    "    labels.loc[(labels['Activity_Label'] == 'upsatirs')] = 'upstairs'\n",
    "    \n",
    "    #Concatenate left pocket and right pocket data into a single data frame (we only use left pocket and right pocket data)\n",
    "    frames = [left_pocket, right_pocket]\n",
    "    df = pd.concat(frames)\n",
    "   \n",
    "    return df, labels\n",
    "\n",
    "# Generate input data and labels\n",
    "train_X, train_y = concat(train_data)\n",
    "test_X, test_y = concat(test_data)"
   ]
  },
  {
   "cell_type": "code",
   "execution_count": 15,
   "metadata": {},
   "outputs": [
    {
     "data": {
      "text/html": [
       "<div>\n",
       "<style scoped>\n",
       "    .dataframe tbody tr th:only-of-type {\n",
       "        vertical-align: middle;\n",
       "    }\n",
       "\n",
       "    .dataframe tbody tr th {\n",
       "        vertical-align: top;\n",
       "    }\n",
       "\n",
       "    .dataframe thead th {\n",
       "        text-align: right;\n",
       "    }\n",
       "</style>\n",
       "<table border=\"1\" class=\"dataframe\">\n",
       "  <thead>\n",
       "    <tr style=\"text-align: right;\">\n",
       "      <th></th>\n",
       "      <th>Ax</th>\n",
       "      <th>Ay</th>\n",
       "      <th>Az</th>\n",
       "      <th>Lx</th>\n",
       "      <th>Ly</th>\n",
       "      <th>Lz</th>\n",
       "      <th>Gx</th>\n",
       "      <th>Gy</th>\n",
       "      <th>Gz</th>\n",
       "      <th>MA</th>\n",
       "      <th>ML</th>\n",
       "      <th>MG</th>\n",
       "    </tr>\n",
       "  </thead>\n",
       "  <tbody>\n",
       "    <tr>\n",
       "      <th>0</th>\n",
       "      <td>-1.81150</td>\n",
       "      <td>-14.873</td>\n",
       "      <td>-1.34840</td>\n",
       "      <td>-1.26910</td>\n",
       "      <td>-5.1057</td>\n",
       "      <td>-0.66445</td>\n",
       "      <td>-0.53206</td>\n",
       "      <td>-3.18690</td>\n",
       "      <td>0.23976</td>\n",
       "      <td>15.043465</td>\n",
       "      <td>5.302856</td>\n",
       "      <td>3.239893</td>\n",
       "    </tr>\n",
       "    <tr>\n",
       "      <th>1</th>\n",
       "      <td>0.24517</td>\n",
       "      <td>-14.070</td>\n",
       "      <td>-0.84446</td>\n",
       "      <td>0.70147</td>\n",
       "      <td>-4.2969</td>\n",
       "      <td>-0.17199</td>\n",
       "      <td>-0.25229</td>\n",
       "      <td>-1.79660</td>\n",
       "      <td>0.40745</td>\n",
       "      <td>14.097451</td>\n",
       "      <td>4.357177</td>\n",
       "      <td>1.859419</td>\n",
       "    </tr>\n",
       "    <tr>\n",
       "      <th>2</th>\n",
       "      <td>-0.57205</td>\n",
       "      <td>-14.628</td>\n",
       "      <td>-1.75700</td>\n",
       "      <td>-0.21760</td>\n",
       "      <td>-4.8531</td>\n",
       "      <td>-1.05650</td>\n",
       "      <td>-1.04920</td>\n",
       "      <td>0.29138</td>\n",
       "      <td>0.29230</td>\n",
       "      <td>14.744242</td>\n",
       "      <td>4.971531</td>\n",
       "      <td>1.127458</td>\n",
       "    </tr>\n",
       "    <tr>\n",
       "      <th>3</th>\n",
       "      <td>-0.69464</td>\n",
       "      <td>-12.939</td>\n",
       "      <td>-3.09180</td>\n",
       "      <td>-0.32273</td>\n",
       "      <td>-3.1786</td>\n",
       "      <td>-2.21970</td>\n",
       "      <td>-2.37200</td>\n",
       "      <td>1.00820</td>\n",
       "      <td>0.34972</td>\n",
       "      <td>13.321392</td>\n",
       "      <td>3.890337</td>\n",
       "      <td>2.600991</td>\n",
       "    </tr>\n",
       "    <tr>\n",
       "      <th>4</th>\n",
       "      <td>0.87170</td>\n",
       "      <td>-12.000</td>\n",
       "      <td>-1.56630</td>\n",
       "      <td>1.13740</td>\n",
       "      <td>-2.2390</td>\n",
       "      <td>-0.65476</td>\n",
       "      <td>-2.79010</td>\n",
       "      <td>0.65485</td>\n",
       "      <td>0.22724</td>\n",
       "      <td>12.133143</td>\n",
       "      <td>2.595286</td>\n",
       "      <td>2.874913</td>\n",
       "    </tr>\n",
       "  </tbody>\n",
       "</table>\n",
       "</div>"
      ],
      "text/plain": [
       "        Ax      Ay       Az       Lx      Ly       Lz       Gx       Gy  \\\n",
       "0 -1.81150 -14.873 -1.34840 -1.26910 -5.1057 -0.66445 -0.53206 -3.18690   \n",
       "1  0.24517 -14.070 -0.84446  0.70147 -4.2969 -0.17199 -0.25229 -1.79660   \n",
       "2 -0.57205 -14.628 -1.75700 -0.21760 -4.8531 -1.05650 -1.04920  0.29138   \n",
       "3 -0.69464 -12.939 -3.09180 -0.32273 -3.1786 -2.21970 -2.37200  1.00820   \n",
       "4  0.87170 -12.000 -1.56630  1.13740 -2.2390 -0.65476 -2.79010  0.65485   \n",
       "\n",
       "        Gz         MA        ML        MG  \n",
       "0  0.23976  15.043465  5.302856  3.239893  \n",
       "1  0.40745  14.097451  4.357177  1.859419  \n",
       "2  0.29230  14.744242  4.971531  1.127458  \n",
       "3  0.34972  13.321392  3.890337  2.600991  \n",
       "4  0.22724  12.133143  2.595286  2.874913  "
      ]
     },
     "execution_count": 15,
     "metadata": {},
     "output_type": "execute_result"
    }
   ],
   "source": [
    "train_X.head()"
   ]
  },
  {
   "cell_type": "code",
   "execution_count": 16,
   "metadata": {},
   "outputs": [
    {
     "data": {
      "text/html": [
       "<div>\n",
       "<style scoped>\n",
       "    .dataframe tbody tr th:only-of-type {\n",
       "        vertical-align: middle;\n",
       "    }\n",
       "\n",
       "    .dataframe tbody tr th {\n",
       "        vertical-align: top;\n",
       "    }\n",
       "\n",
       "    .dataframe thead th {\n",
       "        text-align: right;\n",
       "    }\n",
       "</style>\n",
       "<table border=\"1\" class=\"dataframe\">\n",
       "  <thead>\n",
       "    <tr style=\"text-align: right;\">\n",
       "      <th></th>\n",
       "      <th>Activity_Label</th>\n",
       "    </tr>\n",
       "  </thead>\n",
       "  <tbody>\n",
       "    <tr>\n",
       "      <th>0</th>\n",
       "      <td>walking</td>\n",
       "    </tr>\n",
       "    <tr>\n",
       "      <th>1</th>\n",
       "      <td>walking</td>\n",
       "    </tr>\n",
       "    <tr>\n",
       "      <th>2</th>\n",
       "      <td>walking</td>\n",
       "    </tr>\n",
       "    <tr>\n",
       "      <th>3</th>\n",
       "      <td>walking</td>\n",
       "    </tr>\n",
       "    <tr>\n",
       "      <th>4</th>\n",
       "      <td>walking</td>\n",
       "    </tr>\n",
       "  </tbody>\n",
       "</table>\n",
       "</div>"
      ],
      "text/plain": [
       "  Activity_Label\n",
       "0        walking\n",
       "1        walking\n",
       "2        walking\n",
       "3        walking\n",
       "4        walking"
      ]
     },
     "execution_count": 16,
     "metadata": {},
     "output_type": "execute_result"
    }
   ],
   "source": [
    "train_y.head()"
   ]
  },
  {
   "cell_type": "markdown",
   "metadata": {},
   "source": [
    "Next we use sliding window mechanism to generate data segments.\n",
    "We use Accelerometer, Linear acceleration and Gyroscope features and their sum of squares roots:"
   ]
  },
  {
   "cell_type": "code",
   "execution_count": 19,
   "metadata": {},
   "outputs": [],
   "source": [
    "N_TIME_STEPS = 100 #sliding window length\n",
    "STEP = 50 #Sliding window step size\n",
    "N_FEATURES = 12 \n",
    "\n",
    "def generate_sequence(x, y, n_time_steps, step):\n",
    "    \n",
    "    segments = []\n",
    "    labels = []\n",
    "    for i in range(0, len(x) - n_time_steps, step):\n",
    "        ax = x['Ax'].values[i: i + n_time_steps]\n",
    "        ay = x['Ay'].values[i: i + n_time_steps]\n",
    "        az = x['Az'].values[i: i + n_time_steps]\n",
    "\n",
    "        lx = x['Lx'].values[i: i + n_time_steps]\n",
    "        ly = x['Ly'].values[i: i + n_time_steps]\n",
    "        lz = x['Lz'].values[i: i + n_time_steps]\n",
    "        \n",
    "        gx = x['Gx'].values[i: i + n_time_steps]\n",
    "        gy = x['Gy'].values[i: i + n_time_steps]\n",
    "        gz = x['Gz'].values[i: i + n_time_steps]\n",
    "\n",
    "        MA = x['MA'].values[i: i + n_time_steps]\n",
    "        ML = x['ML'].values[i: i + n_time_steps]\n",
    "        MG = x['MG'].values[i: i + n_time_steps]\n",
    "       \n",
    "        label = stats.mode(y['Activity_Label'][i: i + n_time_steps])[0][0]\n",
    "        segments.append([ax, ay, az, lx, ly, lz, gx, gy, gz, MA, ML, MG])\n",
    "        labels.append(label)\n",
    "        \n",
    "    return segments, labels\n",
    "\n",
    "train_X, train_y = generate_sequence(train_X, train_y, N_TIME_STEPS, STEP)\n",
    "test_X, test_y = generate_sequence(test_X, test_y, N_TIME_STEPS, STEP)"
   ]
  },
  {
   "cell_type": "code",
   "execution_count": 20,
   "metadata": {},
   "outputs": [],
   "source": [
    "# reshape input segments and one-hot encode labels\n",
    "def reshape_segments(x, y, n_time_steps, n_features):\n",
    "    \n",
    "    x_reshaped = np.asarray(x, dtype= np.float32).reshape(-1, n_time_steps, n_features)\n",
    "    y_reshaped = np.asarray(pd.get_dummies(y), dtype = np.float32)\n",
    "    return x_reshaped, y_reshaped\n",
    "\n",
    "X_train, y_train = reshape_segments(train_X, train_y, N_TIME_STEPS, N_FEATURES)\n",
    "X_test, y_test = reshape_segments(test_X, test_y, N_TIME_STEPS, N_FEATURES)"
   ]
  },
  {
   "cell_type": "markdown",
   "metadata": {},
   "source": [
    "## Building the model"
   ]
  },
  {
   "cell_type": "code",
   "execution_count": 22,
   "metadata": {},
   "outputs": [],
   "source": [
    "from keras.regularizers import l2\n",
    "from keras.models import Sequential\n",
    "from keras.layers import Dense\n",
    "from keras.layers import LSTM\n",
    "from keras.layers import Flatten\n",
    "from keras import optimizers\n",
    "\n",
    "N_CLASSES = 7\n",
    "N_HIDDEN_UNITS = 32\n",
    "L2 = 0.000001\n",
    "\n",
    "model = Sequential([\n",
    "    LSTM(N_HIDDEN_UNITS, return_sequences=True, input_shape=(N_TIME_STEPS, N_FEATURES), \n",
    "         kernel_initializer='orthogonal', kernel_regularizer=l2(L2), recurrent_regularizer=l2(L2),\n",
    "         bias_regularizer=l2(L2), name=\"LSTM_1\"),\n",
    "    Flatten(name='Flatten'),\n",
    "    Dense(N_HIDDEN_UNITS, activation='relu', kernel_regularizer=l2(L2), bias_regularizer=l2(L2), name=\"Dense_1\"),\n",
    "    Dense(N_CLASSES, activation='softmax', kernel_regularizer=l2(L2), bias_regularizer=l2(L2), name=\"Dense_2\")\n",
    "])"
   ]
  },
  {
   "cell_type": "code",
   "execution_count": 23,
   "metadata": {},
   "outputs": [
    {
     "name": "stdout",
     "output_type": "stream",
     "text": [
      "Model: \"sequential_1\"\n",
      "_________________________________________________________________\n",
      "Layer (type)                 Output Shape              Param #   \n",
      "=================================================================\n",
      "LSTM_1 (LSTM)                (None, 100, 32)           5760      \n",
      "_________________________________________________________________\n",
      "Flatten (Flatten)            (None, 3200)              0         \n",
      "_________________________________________________________________\n",
      "Dense_1 (Dense)              (None, 32)                102432    \n",
      "_________________________________________________________________\n",
      "Dense_2 (Dense)              (None, 7)                 231       \n",
      "=================================================================\n",
      "Total params: 108,423\n",
      "Trainable params: 108,423\n",
      "Non-trainable params: 0\n",
      "_________________________________________________________________\n"
     ]
    }
   ],
   "source": [
    "model.summary()"
   ]
  },
  {
   "cell_type": "markdown",
   "metadata": {},
   "source": [
    "## Training & Evaluation"
   ]
  },
  {
   "cell_type": "code",
   "execution_count": 24,
   "metadata": {},
   "outputs": [],
   "source": [
    "opt = optimizers.RMSprop(lr=0.0001)\n",
    "\n",
    "model.compile(optimizer=opt,\n",
    "              loss='categorical_crossentropy',\n",
    "              metrics=['accuracy'])"
   ]
  },
  {
   "cell_type": "code",
   "execution_count": null,
   "metadata": {},
   "outputs": [],
   "source": [
    "BATCH_SIZE = 1024\n",
    "N_EPOCHS = 30\n",
    "\n",
    "model.fit(X_train, y_train,\n",
    "          batch_size=BATCH_SIZE, epochs=N_EPOCHS,\n",
    "          validation_data=(X_test, y_test))"
   ]
  },
  {
   "cell_type": "markdown",
   "metadata": {},
   "source": [
    "## Confusion Matrix"
   ]
  },
  {
   "cell_type": "code",
   "execution_count": 25,
   "metadata": {},
   "outputs": [
    {
     "data": {
      "image/png": "[encoded data removed]",
      "text/plain": [
       "<Figure size 1152x1008 with 2 Axes>"
      ]
     },
     "metadata": {
      "needs_background": "light"
     },
     "output_type": "display_data"
    }
   ],
   "source": [
    "y_pred_ohe = model.predict(X_test)\n",
    "y_pred_labels = np.argmax(y_pred_ohe, axis=1)\n",
    "y_true_labels = np.argmax(y_test, axis=1)\n",
    "confusion_matrix = metrics.confusion_matrix(y_true=y_true_labels, y_pred=y_pred_labels)\n",
    "\n",
    "LABELS = ['Biking' ,' Downstairs', 'Jogging', 'Sitting', 'Standing', 'Upstairs', 'Walking']\n",
    "\n",
    "plt.figure(figsize=(16, 14))\n",
    "sns.set(style='whitegrid', palette='muted', font_scale=1.5)\n",
    "sns.heatmap(confusion_matrix, xticklabels=LABELS, yticklabels=LABELS, annot=True, fmt=\"d\");\n",
    "plt.title(\"Confusion matrix\")\n",
    "plt.ylabel('True label')\n",
    "plt.xlabel('Predicted label')\n",
    "plt.show();"
   ]
  },
  {
   "cell_type": "markdown",
   "metadata": {},
   "source": [
    "## Exporting the model "
   ]
  },
  {
   "cell_type": "markdown",
   "metadata": {},
   "source": [
    "Finally we export the trained model in a format which easily can be used in our android application for on-device inference. The exported model will be named \"frozen_HAR.pb\" and be stored under models directory:"
   ]
  },
  {
   "cell_type": "code",
   "execution_count": 26,
   "metadata": {},
   "outputs": [
    {
     "ename": "AttributeError",
     "evalue": "module 'tensorflow._api.v2.train' has no attribute 'write_graph'",
     "output_type": "error",
     "traceback": [
      "\u001b[1;31m---------------------------------------------------------------------------\u001b[0m",
      "\u001b[1;31mAttributeError\u001b[0m                            Traceback (most recent call last)",
      "\u001b[1;32m<ipython-input-26-2f1fec1f8e16>\u001b[0m in \u001b[0;36m<module>\u001b[1;34m\u001b[0m\n\u001b[0;32m      7\u001b[0m \u001b[0mMODEL_NAME\u001b[0m \u001b[1;33m=\u001b[0m \u001b[1;34m\"HAR\"\u001b[0m\u001b[1;33m\u001b[0m\u001b[1;33m\u001b[0m\u001b[0m\n\u001b[0;32m      8\u001b[0m \u001b[1;33m\u001b[0m\u001b[0m\n\u001b[1;32m----> 9\u001b[1;33m tf.train.write_graph(K.get_session().graph_def, 'models', \\\n\u001b[0m\u001b[0;32m     10\u001b[0m         MODEL_NAME + '_graph.pbtxt')\n\u001b[0;32m     11\u001b[0m \u001b[0msaver\u001b[0m \u001b[1;33m=\u001b[0m \u001b[0mtf\u001b[0m\u001b[1;33m.\u001b[0m\u001b[0mtrain\u001b[0m\u001b[1;33m.\u001b[0m\u001b[0mSaver\u001b[0m\u001b[1;33m(\u001b[0m\u001b[1;33m)\u001b[0m\u001b[1;33m\u001b[0m\u001b[1;33m\u001b[0m\u001b[0m\n",
      "\u001b[1;31mAttributeError\u001b[0m: module 'tensorflow._api.v2.train' has no attribute 'write_graph'"
     ]
    }
   ],
   "source": [
    "from keras import backend as K\n",
    "from tensorflow.python.tools import freeze_graph\n",
    "from tensorflow.python.tools import optimize_for_inference_lib\n",
    "\n",
    "input_node_names= [\"LSTM_1_input\"]\n",
    "output_node_name = \"Dense_2/Softmax\"\n",
    "MODEL_NAME = \"HAR\"\n",
    "\n",
    "tf.train.write_graph(K.get_session().graph_def, 'models', \\\n",
    "        MODEL_NAME + '_graph.pbtxt')\n",
    "saver = tf.train.Saver()\n",
    "saver.save(K.get_session(), 'models/' + MODEL_NAME + '.chkp')\n",
    "\n",
    "freeze_graph.freeze_graph('models/' + MODEL_NAME + '_graph.pbtxt', None, \\\n",
    "    False, 'models/' + MODEL_NAME + '.chkp', output_node_name, \\\n",
    "    \"save/restore_all\", \"save/Const:0\", \\\n",
    "    'models/frozen_' + MODEL_NAME + '.pb', True, \"\")"
   ]
  }
 ],
 "metadata": {
  "kernelspec": {
   "display_name": "tensorflow_cpu",
   "language": "python",
   "name": "python3"
  },
  "language_info": {
   "codemirror_mode": {
    "name": "ipython",
    "version": 3
   },
   "file_extension": ".py",
   "mimetype": "text/x-python",
   "name": "python",
   "nbconvert_exporter": "python",
   "pygments_lexer": "ipython3",
   "version": "3.6.13"
  },
  "orig_nbformat": 4
 },
 "nbformat": 4,
 "nbformat_minor": 2
}
